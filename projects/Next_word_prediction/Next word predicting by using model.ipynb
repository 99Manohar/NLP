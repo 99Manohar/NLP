{
 "cells": [
  {
   "cell_type": "code",
   "execution_count": 2,
   "metadata": {
    "executionInfo": {
     "elapsed": 5,
     "status": "ok",
     "timestamp": 1711014268735,
     "user": {
      "displayName": "Ashwanth reddy Bakkanna",
      "userId": "05012621869371264389"
     },
     "user_tz": -330
    },
    "id": "LhFtzkgBYy2l"
   },
   "outputs": [],
   "source": [
    "from tensorflow.keras.models import load_model\n",
    "import numpy as np\n",
    "import joblib"
   ]
  },
  {
   "cell_type": "code",
   "execution_count": 3,
   "metadata": {
    "executionInfo": {
     "elapsed": 2372,
     "status": "ok",
     "timestamp": 1711014563507,
     "user": {
      "displayName": "Ashwanth reddy Bakkanna",
      "userId": "05012621869371264389"
     },
     "user_tz": -330
    },
    "id": "RcF6Wrq6ZaCP"
   },
   "outputs": [],
   "source": [
    "trained_model = load_model(r\"/content/drive/MyDrive/Colab Notebooks/Colab Notebooks/NLP/Next Word prediction-partices/models_next_prediction/next_word_model.h5\")"
   ]
  },
  {
   "cell_type": "code",
   "execution_count": 4,
   "metadata": {
    "colab": {
     "base_uri": "https://localhost:8080/"
    },
    "executionInfo": {
     "elapsed": 9,
     "status": "ok",
     "timestamp": 1711014570135,
     "user": {
      "displayName": "Ashwanth reddy Bakkanna",
      "userId": "05012621869371264389"
     },
     "user_tz": -330
    },
    "id": "P8gwoTSGaj-6",
    "outputId": "25c87093-168c-49de-e57a-9fd413d19df9"
   },
   "outputs": [
    {
     "data": {
      "text/plain": [
       "<keras.src.engine.sequential.Sequential at 0x7ce157c5b8e0>"
      ]
     },
     "execution_count": 4,
     "metadata": {},
     "output_type": "execute_result"
    }
   ],
   "source": [
    "trained_model"
   ]
  },
  {
   "cell_type": "code",
   "execution_count": 5,
   "metadata": {
    "executionInfo": {
     "elapsed": 7,
     "status": "ok",
     "timestamp": 1711014596980,
     "user": {
      "displayName": "Ashwanth reddy Bakkanna",
      "userId": "05012621869371264389"
     },
     "user_tz": -330
    },
    "id": "L0PxneAkamUE"
   },
   "outputs": [],
   "source": [
    "tk = joblib.load(r\"/content/drive/MyDrive/Colab Notebooks/Colab Notebooks/NLP/Next Word prediction-partices/models_next_prediction/net_work_tk.pkl\")"
   ]
  },
  {
   "cell_type": "code",
   "execution_count": 6,
   "metadata": {
    "colab": {
     "base_uri": "https://localhost:8080/"
    },
    "executionInfo": {
     "elapsed": 7,
     "status": "ok",
     "timestamp": 1711014605657,
     "user": {
      "displayName": "Ashwanth reddy Bakkanna",
      "userId": "05012621869371264389"
     },
     "user_tz": -330
    },
    "id": "DSWkjayNas1_",
    "outputId": "326ad3d3-194a-4bd9-9003-6a2925c0d39f"
   },
   "outputs": [
    {
     "data": {
      "text/plain": [
       "<keras.src.preprocessing.text.Tokenizer at 0x7ce0d8549bd0>"
      ]
     },
     "execution_count": 6,
     "metadata": {},
     "output_type": "execute_result"
    }
   ],
   "source": [
    "tk"
   ]
  },
  {
   "cell_type": "code",
   "execution_count": 7,
   "metadata": {
    "executionInfo": {
     "elapsed": 395,
     "status": "ok",
     "timestamp": 1711014634937,
     "user": {
      "displayName": "Ashwanth reddy Bakkanna",
      "userId": "05012621869371264389"
     },
     "user_tz": -330
    },
    "id": "4hcj_YVFau92"
   },
   "outputs": [],
   "source": [
    "sent = \"deep learning\""
   ]
  },
  {
   "cell_type": "code",
   "execution_count": 8,
   "metadata": {
    "executionInfo": {
     "elapsed": 6,
     "status": "ok",
     "timestamp": 1711014642640,
     "user": {
      "displayName": "Ashwanth reddy Bakkanna",
      "userId": "05012621869371264389"
     },
     "user_tz": -330
    },
    "id": "c7m7DwBza2AS"
   },
   "outputs": [],
   "source": [
    "import re"
   ]
  },
  {
   "cell_type": "code",
   "execution_count": 9,
   "metadata": {
    "executionInfo": {
     "elapsed": 5,
     "status": "ok",
     "timestamp": 1711014651806,
     "user": {
      "displayName": "Ashwanth reddy Bakkanna",
      "userId": "05012621869371264389"
     },
     "user_tz": -330
    },
    "id": "e8VfgznPa3-g"
   },
   "outputs": [],
   "source": [
    "re_special_char = \"[^a-z\\s]\""
   ]
  },
  {
   "cell_type": "code",
   "execution_count": 10,
   "metadata": {
    "executionInfo": {
     "elapsed": 5,
     "status": "ok",
     "timestamp": 1711014658980,
     "user": {
      "displayName": "Ashwanth reddy Bakkanna",
      "userId": "05012621869371264389"
     },
     "user_tz": -330
    },
    "id": "A8ABIeppa6GS"
   },
   "outputs": [],
   "source": [
    "from tensorflow.keras.preprocessing.sequence import pad_sequences"
   ]
  },
  {
   "cell_type": "code",
   "execution_count": 15,
   "metadata": {
    "executionInfo": {
     "elapsed": 9,
     "status": "ok",
     "timestamp": 1711015957575,
     "user": {
      "displayName": "Ashwanth reddy Bakkanna",
      "userId": "05012621869371264389"
     },
     "user_tz": -330
    },
    "id": "ySvriU65a79b"
   },
   "outputs": [],
   "source": [
    "max_seq_len = 98"
   ]
  },
  {
   "cell_type": "code",
   "execution_count": 16,
   "metadata": {
    "executionInfo": {
     "elapsed": 4,
     "status": "ok",
     "timestamp": 1711015958056,
     "user": {
      "displayName": "Ashwanth reddy Bakkanna",
      "userId": "05012621869371264389"
     },
     "user_tz": -330
    },
    "id": "LXlu1nfRfldw"
   },
   "outputs": [],
   "source": [
    "def text_preprocessing(review):\n",
    "    review = str(review)\n",
    "    #Normalizing the case\n",
    "    review = review.lower()\n",
    "    #Removal of special characters\n",
    "    review = re.sub(re_special_char,\"\", review)\n",
    "    return review"
   ]
  },
  {
   "cell_type": "code",
   "execution_count": 17,
   "metadata": {
    "executionInfo": {
     "elapsed": 5,
     "status": "ok",
     "timestamp": 1711015958568,
     "user": {
      "displayName": "Ashwanth reddy Bakkanna",
      "userId": "05012621869371264389"
     },
     "user_tz": -330
    },
    "id": "Bjln1oKEfnNV"
   },
   "outputs": [],
   "source": [
    "def predict_next_word(sent):\n",
    "    sent = text_preprocessing(sent)\n",
    "    sent = tk.texts_to_sequences([sent])\n",
    "    sent = pad_sequences(sent, maxlen = max_seq_len, padding='pre')\n",
    "    y_pred = trained_model.predict(sent, verbose = 0)\n",
    "    best_word_pos = np.argmax(y_pred[0])\n",
    "    return tk.index_word[best_word_pos]"
   ]
  },
  {
   "cell_type": "code",
   "execution_count": 102,
   "metadata": {
    "executionInfo": {
     "elapsed": 519,
     "status": "ok",
     "timestamp": 1711016998200,
     "user": {
      "displayName": "Ashwanth reddy Bakkanna",
      "userId": "05012621869371264389"
     },
     "user_tz": -330
    },
    "id": "MeaCwIiqfoin"
   },
   "outputs": [],
   "source": [
    "\n",
    "word = \"Indian is the\"\n",
    "for i in range(1):\n",
    "    word = word +\" \" + predict_next_word(word)"
   ]
  },
  {
   "cell_type": "code",
   "execution_count": 103,
   "metadata": {
    "colab": {
     "base_uri": "https://localhost:8080/",
     "height": 35
    },
    "executionInfo": {
     "elapsed": 7,
     "status": "ok",
     "timestamp": 1711016998200,
     "user": {
      "displayName": "Ashwanth reddy Bakkanna",
      "userId": "05012621869371264389"
     },
     "user_tz": -330
    },
    "id": "OItsMJZWfyo1",
    "outputId": "ac008724-cc13-487e-e716-8a1e6e2cc6f9"
   },
   "outputs": [
    {
     "data": {
      "application/vnd.google.colaboratory.intrinsic+json": {
       "type": "string"
      },
      "text/plain": [
       "'Indian is the best'"
      ]
     },
     "execution_count": 103,
     "metadata": {},
     "output_type": "execute_result"
    }
   ],
   "source": [
    "word"
   ]
  },
  {
   "cell_type": "code",
   "execution_count": null,
   "metadata": {
    "id": "w-1KWrhwf8D_"
   },
   "outputs": [],
   "source": []
  }
 ],
 "metadata": {
  "colab": {
   "authorship_tag": "ABX9TyPgM+mYPKO5Va3rlFNGEoW/",
   "mount_file_id": "1zc7vkwdiWO_L7E27tSoDVTPcEHyYPpwj",
   "provenance": []
  },
  "kernelspec": {
   "display_name": "Python 3 (ipykernel)",
   "language": "python",
   "name": "python3"
  },
  "language_info": {
   "codemirror_mode": {
    "name": "ipython",
    "version": 3
   },
   "file_extension": ".py",
   "mimetype": "text/x-python",
   "name": "python",
   "nbconvert_exporter": "python",
   "pygments_lexer": "ipython3",
   "version": "3.9.13"
  }
 },
 "nbformat": 4,
 "nbformat_minor": 1
}
